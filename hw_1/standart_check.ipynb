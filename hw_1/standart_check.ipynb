{
 "cells": [
  {
   "cell_type": "code",
   "execution_count": 4,
   "id": "9e2448a2",
   "metadata": {},
   "outputs": [],
   "source": [
    "import pandas as pd"
   ]
  },
  {
   "cell_type": "code",
   "execution_count": 5,
   "id": "6934ed97",
   "metadata": {},
   "outputs": [],
   "source": [
    "data = pd.read_csv(\"AB_NYC_2019.csv\")\n",
    "prices = data[\"price\"]"
   ]
  },
  {
   "cell_type": "code",
   "execution_count": 7,
   "id": "60d50352",
   "metadata": {},
   "outputs": [
    {
     "name": "stdout",
     "output_type": "stream",
     "text": [
      "mean = 152.7206871868289\n",
      "var = 57672.84569843359\n"
     ]
    }
   ],
   "source": [
    "mean = prices.mean()\n",
    "print(f'mean = {mean}')\n",
    "var = ((prices - prices.mean()) ** 2).mean()\n",
    "print(f'var = {var}')\n"
   ]
  },
  {
   "cell_type": "code",
   "execution_count": null,
   "id": "8c94374d",
   "metadata": {},
   "outputs": [],
   "source": []
  }
 ],
 "metadata": {
  "kernelspec": {
   "display_name": "Python 3.8.12 ('torch')",
   "language": "python",
   "name": "python3"
  },
  "language_info": {
   "codemirror_mode": {
    "name": "ipython",
    "version": 3
   },
   "file_extension": ".py",
   "mimetype": "text/x-python",
   "name": "python",
   "nbconvert_exporter": "python",
   "pygments_lexer": "ipython3",
   "version": "3.8.12"
  },
  "vscode": {
   "interpreter": {
    "hash": "a2edb53f22ca5cf78de34a906e239b8a5f905695253a62378633e1378698dd7f"
   }
  }
 },
 "nbformat": 4,
 "nbformat_minor": 5
}
