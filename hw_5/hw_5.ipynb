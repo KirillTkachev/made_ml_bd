{
 "cells": [
  {
   "cell_type": "code",
   "execution_count": 1,
   "id": "684b1fc5",
   "metadata": {},
   "outputs": [],
   "source": [
    "import matplotlib.pyplot as plt\n",
    "\n",
    "import pyspark.sql\n",
    "from pyspark.ml.feature import Tokenizer, HashingTF, IDF, Word2Vec\n",
    "from pyspark.ml.pipeline import Pipeline\n",
    "from pyspark.ml.classification import LogisticRegression\n",
    "from pyspark.ml.evaluation import BinaryClassificationEvaluator"
   ]
  },
  {
   "cell_type": "code",
   "execution_count": 2,
   "id": "42940ab6",
   "metadata": {},
   "outputs": [],
   "source": [
    "#constants\n",
    "\n",
    "NUM_FEATURES_RANGE = range(1, 102, 10)"
   ]
  },
  {
   "cell_type": "code",
   "execution_count": 3,
   "id": "2bb5386b",
   "metadata": {},
   "outputs": [
    {
     "name": "stdout",
     "output_type": "stream",
     "text": [
      "22/12/16 21:12:39 WARN Utils: Your hostname, kirill-Lenovo-Legion-5-15ARH05H resolves to a loopback address: 127.0.1.1; using 192.168.178.21 instead (on interface wlp4s0)\n",
      "22/12/16 21:12:39 WARN Utils: Set SPARK_LOCAL_IP if you need to bind to another address\n"
     ]
    },
    {
     "name": "stderr",
     "output_type": "stream",
     "text": [
      "Setting default log level to \"WARN\".\n",
      "To adjust logging level use sc.setLogLevel(newLevel). For SparkR, use setLogLevel(newLevel).\n"
     ]
    },
    {
     "name": "stdout",
     "output_type": "stream",
     "text": [
      "22/12/16 21:12:40 WARN NativeCodeLoader: Unable to load native-hadoop library for your platform... using builtin-java classes where applicable\n"
     ]
    }
   ],
   "source": [
    "spark = pyspark.sql.SparkSession.builder \\\n",
    "        .master(\"local[4]\") \\\n",
    "        .appName(\"HW_5\") \\\n",
    "        .getOrCreate()"
   ]
  },
  {
   "cell_type": "code",
   "execution_count": 4,
   "id": "be12d2da",
   "metadata": {},
   "outputs": [
    {
     "name": "stderr",
     "output_type": "stream",
     "text": [
      "\r",
      "[Stage 1:>                                                          (0 + 1) / 1]\r",
      "\r",
      "                                                                                \r"
     ]
    }
   ],
   "source": [
    "train = spark.read.option(\"header\",True).option(\"quote\", \"\\\"\").option(\"escape\", \"\\\"\") \\\n",
    "    .option(\"multiline\", True).option(\"inferSchema\", True).csv(\"data/train.csv\")\n",
    "test = spark.read.option(\"header\",True).option(\"quote\", \"\\\"\").option(\"escape\", \"\\\"\") \\\n",
    "    .option(\"multiline\", True).option(\"inferSchema\", True).csv(\"data/test.csv\")\n",
    "test_labels = spark.read.option(\"header\",True).option(\"quote\", \"\\\"\").option(\"escape\", \"\\\"\") \\\n",
    "    .option(\"multiline\", True).option(\"inferSchema\", True).csv(\"data/test_labels.csv\")\n",
    "test = test.join(test_labels, 'id')"
   ]
  },
  {
   "cell_type": "markdown",
   "id": "95f236a2",
   "metadata": {},
   "source": [
    "# Блок 1. HashingTF и IDF"
   ]
  },
  {
   "cell_type": "code",
   "execution_count": 5,
   "id": "413827de",
   "metadata": {},
   "outputs": [],
   "source": [
    "tokenizer = Tokenizer(inputCol=\"comment_text\", outputCol=\"tokens\")"
   ]
  },
  {
   "cell_type": "code",
   "execution_count": 6,
   "id": "09335158",
   "metadata": {},
   "outputs": [],
   "source": [
    "def fitTFIDF(numFeatures: int, target: str):\n",
    "    hashingTF = HashingTF(inputCol=tokenizer.getOutputCol(), outputCol=\"featuresTF\", numFeatures=numFeatures)\n",
    "    idf = IDF(inputCol=hashingTF.getOutputCol(), outputCol=\"featuresIDF\")\n",
    "    model_lr = LogisticRegression(featuresCol=idf.getOutputCol(), labelCol=target)\n",
    "    pipeline = Pipeline(stages=[tokenizer, hashingTF, idf, model_lr])\n",
    "    fitted_pipeline = pipeline.fit(train)\n",
    "    evaluator = BinaryClassificationEvaluator(labelCol=model_lr.getLabelCol(), \\\n",
    "                                              rawPredictionCol=model_lr.getRawPredictionCol())\n",
    "    return evaluator.evaluate(fitted_pipeline.transform(test))\n",
    "\n",
    "\n",
    "def get_results_TFIDF(target: str, numFeaturesRange: int):\n",
    "    score = []\n",
    "    for numFeatures in numFeaturesRange:\n",
    "        score.append(fitTFIDF(numFeatures, target))\n",
    "    return score\n",
    "\n",
    "\n",
    "def get_all_results(targets):\n",
    "    for target in targets.keys():\n",
    "        targets[target] = get_results_TFIDF(target, NUM_FEATURES_RANGE)\n",
    "    return targets"
   ]
  },
  {
   "cell_type": "code",
   "execution_count": 7,
   "id": "fa3d3cd9",
   "metadata": {},
   "outputs": [
    {
     "name": "stderr",
     "output_type": "stream",
     "text": [
      "[Stage 21:>                                                         (0 + 1) / 1]\r"
     ]
    },
    {
     "name": "stdout",
     "output_type": "stream",
     "text": [
      "22/12/16 21:13:34 WARN InstanceBuilder$NativeBLAS: Failed to load implementation from:dev.ludovic.netlib.blas.JNIBLAS\n",
      "22/12/16 21:13:34 WARN InstanceBuilder$NativeBLAS: Failed to load implementation from:dev.ludovic.netlib.blas.ForeignLinkerBLAS\n"
     ]
    },
    {
     "name": "stderr",
     "output_type": "stream",
     "text": [
      "                                                                                \r"
     ]
    }
   ],
   "source": [
    "targets_dict = {\"toxic\": [], \"severe_toxic\": [], \"obscene\": [], \"threat\": [], \"insult\": [], \"identity_hate\": []}\n",
    "\n",
    "tfidf_result = get_all_results(targets_dict)"
   ]
  },
  {
   "cell_type": "code",
   "execution_count": 9,
   "id": "006f5806",
   "metadata": {},
   "outputs": [],
   "source": [
    "def plot_results(result, feature_range):\n",
    "    for key in result.keys():\n",
    "        plt.plot(feature_range, result[key], label = key)\n",
    "    plt.legend()\n",
    "    plt.grid()\n",
    "    plt.xlabel(\"numFeatures\")\n",
    "    plt.ylabel(\"AUC ROC\")\n",
    "    plt.show()"
   ]
  },
  {
   "cell_type": "code",
   "execution_count": 10,
   "id": "17f927c2",
   "metadata": {},
   "outputs": [
    {
     "data": {
      "image/png": "[encoded data removed]",
      "text/plain": [
       "<Figure size 432x288 with 1 Axes>"
      ]
     },
     "metadata": {
      "needs_background": "light"
     },
     "output_type": "display_data"
    }
   ],
   "source": [
    "plot_results(tfidf_result, NUM_FEATURES_RANGE)"
   ]
  },
  {
   "cell_type": "markdown",
   "id": "a4643abe",
   "metadata": {},
   "source": [
    "По графику видно, что в связи с ростом numFeatures AUC ROC растет для всех таргетов"
   ]
  },
  {
   "cell_type": "markdown",
   "id": "b288bcef",
   "metadata": {},
   "source": [
    "# Блок 2. Word2Vec"
   ]
  },
  {
   "cell_type": "code",
   "execution_count": 11,
   "id": "c352833c",
   "metadata": {},
   "outputs": [
    {
     "name": "stderr",
     "output_type": "stream",
     "text": [
      "                                                                                \r"
     ]
    }
   ],
   "source": [
    "targets_dict = {\"toxic\": 0, \"severe_toxic\": 0, \"obscene\": 0, \"threat\": 0, \"insult\": 0, \"identity_hate\": 0}\n",
    "\n",
    "w2v = Word2Vec(inputCol=tokenizer.getOutputCol(), outputCol=\"featuresW2V\", vectorSize=32)\n",
    "\n",
    "for target in targets_dict.keys():\n",
    "    model_lr = LogisticRegression(featuresCol=w2v.getOutputCol(), labelCol=target)\n",
    "    evaluator = BinaryClassificationEvaluator(labelCol=model_lr.getLabelCol(), rawPredictionCol=model_lr.getRawPredictionCol())\n",
    "    pipeline = Pipeline(stages=[tokenizer, w2v, model_lr])\n",
    "    fitted_pipeline = pipeline.fit(train)\n",
    "    targets_dict[target] = evaluator.evaluate(fitted_pipeline.transform(test))"
   ]
  },
  {
   "cell_type": "code",
   "execution_count": 12,
   "id": "6f2e69a3",
   "metadata": {},
   "outputs": [
    {
     "data": {
      "text/plain": [
       "{'toxic': 0.837953621215846,\n",
       " 'severe_toxic': 0.9301843986372952,\n",
       " 'obscene': 0.8683343368802013,\n",
       " 'threat': 0.9059904812936591,\n",
       " 'insult': 0.8592416980872052,\n",
       " 'identity_hate': 0.8857609667231405}"
      ]
     },
     "execution_count": 12,
     "metadata": {},
     "output_type": "execute_result"
    }
   ],
   "source": [
    "targets_dict"
   ]
  },
  {
   "cell_type": "markdown",
   "id": "23146e4b",
   "metadata": {},
   "source": [
    "Word2Vec работает лучше для всех таргетов при выбранном vectorSize = 32"
   ]
  },
  {
   "cell_type": "code",
   "execution_count": null,
   "id": "f2f6ec49",
   "metadata": {},
   "outputs": [],
   "source": []
  }
 ],
 "metadata": {
  "kernelspec": {
   "display_name": "Python [conda env:root] *",
   "language": "python",
   "name": "conda-root-py"
  },
  "language_info": {
   "codemirror_mode": {
    "name": "ipython",
    "version": 3
   },
   "file_extension": ".py",
   "mimetype": "text/x-python",
   "name": "python",
   "nbconvert_exporter": "python",
   "pygments_lexer": "ipython3",
   "version": "3.9.7"
  }
 },
 "nbformat": 4,
 "nbformat_minor": 5
}
